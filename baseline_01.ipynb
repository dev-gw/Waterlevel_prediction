{
 "cells": [
  {
   "cell_type": "code",
   "execution_count": 1,
   "id": "9c9ea246",
   "metadata": {},
   "outputs": [],
   "source": [
    "import numpy as np\n",
    "import pandas as pd\n",
    "import gc\n",
    "import time\n",
    "import matplotlib.pyplot as plt\n",
    "import seaborn as sns\n",
    "import warnings\n",
    "warnings.filterwarnings(action='ignore')\n",
    "%matplotlib inline"
   ]
  },
  {
   "cell_type": "code",
   "execution_count": 2,
   "id": "283e6b68",
   "metadata": {},
   "outputs": [],
   "source": [
    "# baseline\n",
    "import pandas as pd\n",
    "import numpy as np\n",
    "\n",
    "from glob import glob\n",
    "from tqdm import tqdm\n",
    "from scipy import interpolate\n",
    "\n",
    "import tensorflow as tf\n",
    "from tensorflow.keras.models import Sequential\n",
    "from tensorflow.keras.layers import Dense, LSTM, GRU, AveragePooling1D, GlobalAveragePooling1D"
   ]
  },
  {
   "cell_type": "code",
   "execution_count": 3,
   "id": "2735667f",
   "metadata": {},
   "outputs": [
    {
     "data": {
      "text/plain": [
       "['Dataset/water_data\\\\data_2012.csv',\n",
       " 'Dataset/water_data\\\\data_2013.csv',\n",
       " 'Dataset/water_data\\\\data_2014.csv',\n",
       " 'Dataset/water_data\\\\data_2015.csv',\n",
       " 'Dataset/water_data\\\\data_2016.csv',\n",
       " 'Dataset/water_data\\\\data_2017.csv',\n",
       " 'Dataset/water_data\\\\data_2018.csv',\n",
       " 'Dataset/water_data\\\\data_2019.csv',\n",
       " 'Dataset/water_data\\\\data_2020.csv',\n",
       " 'Dataset/water_data\\\\data_2021.csv',\n",
       " 'Dataset/water_data\\\\data_2022.csv']"
      ]
     },
     "execution_count": 3,
     "metadata": {},
     "output_type": "execute_result"
    }
   ],
   "source": [
    "w_list = sorted(glob(\"Dataset/water_data/*.csv\"))\n",
    "w_list"
   ]
  },
  {
   "cell_type": "code",
   "execution_count": 4,
   "id": "da02937a",
   "metadata": {},
   "outputs": [
    {
     "data": {
      "text/plain": [
       "(26496, 15)"
      ]
     },
     "execution_count": 4,
     "metadata": {},
     "output_type": "execute_result"
    }
   ],
   "source": [
    "pd.read_csv(w_list[0]).shape"
   ]
  },
  {
   "cell_type": "code",
   "execution_count": 5,
   "id": "35667014",
   "metadata": {},
   "outputs": [
    {
     "name": "stdout",
     "output_type": "stream",
     "text": [
      "<class 'pandas.core.frame.DataFrame'>\n",
      "RangeIndex: 26496 entries, 0 to 26495\n",
      "Data columns (total 15 columns):\n",
      " #   Column      Non-Null Count  Dtype  \n",
      "---  ------      --------------  -----  \n",
      " 0   ymdhm       26496 non-null  object \n",
      " 1   swl         26495 non-null  float64\n",
      " 2   inf         26495 non-null  float64\n",
      " 3   sfw         26495 non-null  float64\n",
      " 4   ecpc        26495 non-null  float64\n",
      " 5   tototf      26495 non-null  float64\n",
      " 6   tide_level  25720 non-null  float64\n",
      " 7   wl_1018662  26496 non-null  float64\n",
      " 8   fw_1018662  26496 non-null  float64\n",
      " 9   wl_1018680  26496 non-null  float64\n",
      " 10  fw_1018680  26496 non-null  float64\n",
      " 11  wl_1018683  26496 non-null  float64\n",
      " 12  fw_1018683  26496 non-null  float64\n",
      " 13  wl_1019630  26496 non-null  float64\n",
      " 14  fw_1019630  26496 non-null  float64\n",
      "dtypes: float64(14), object(1)\n",
      "memory usage: 3.0+ MB\n"
     ]
    }
   ],
   "source": [
    "pd.read_csv(w_list[0]).info()"
   ]
  },
  {
   "cell_type": "code",
   "execution_count": 6,
   "id": "cea069d9",
   "metadata": {},
   "outputs": [
    {
     "name": "stderr",
     "output_type": "stream",
     "text": [
      "100%|██████████| 26064/26064 [00:17<00:00, 1481.58it/s]\n",
      "100%|██████████| 26064/26064 [00:17<00:00, 1491.09it/s]\n",
      "100%|██████████| 26064/26064 [00:17<00:00, 1477.88it/s]\n",
      "100%|██████████| 26064/26064 [00:17<00:00, 1468.53it/s]\n",
      "100%|██████████| 26064/26064 [00:17<00:00, 1456.58it/s]\n",
      "100%|██████████| 26064/26064 [00:18<00:00, 1415.29it/s]\n",
      "100%|██████████| 26064/26064 [00:18<00:00, 1433.91it/s]\n",
      "100%|██████████| 26064/26064 [00:18<00:00, 1422.71it/s]\n",
      "100%|██████████| 26064/26064 [00:18<00:00, 1402.70it/s]\n",
      "100%|██████████| 26064/26064 [00:18<00:00, 1389.04it/s]\n"
     ]
    }
   ],
   "source": [
    "with tf.device(\"/device:GPU:0\"):\n",
    "    train_data = []\n",
    "    train_label = []\n",
    "    num = 0\n",
    "\n",
    "    for i in w_list[:-1]:\n",
    "\n",
    "        tmp = pd.read_csv(i)\n",
    "        tmp = tmp.replace(\" \", np.nan)\n",
    "        tmp = tmp.interpolate(method = 'values')\n",
    "        tmp = tmp.fillna(0)\n",
    "\n",
    "        for j in tqdm(range(len(tmp)-432)):\n",
    "            train_data.append(np.array(tmp.loc[j:j + 431, [\"swl\", \"inf\", \"sfw\", \"ecpc\",\n",
    "                                                           \"tototf\", \"tide_level\",\n",
    "                                                           \"fw_1018662\", \"fw_1018680\",\n",
    "                                                           \"fw_1018683\", \"fw_1019630\"]]).astype(float))\n",
    "\n",
    "            train_label.append(np.array(tmp.loc[j + 432, [\"wl_1018662\", \"wl_1018680\",\n",
    "                                                          \"wl_1018683\", \"wl_1019630\"]]).astype(float))"
   ]
  },
  {
   "cell_type": "code",
   "execution_count": 7,
   "id": "64190ed1",
   "metadata": {},
   "outputs": [
    {
     "name": "stdout",
     "output_type": "stream",
     "text": [
      "(260640, 432, 10)\n",
      "(260640, 4)\n"
     ]
    }
   ],
   "source": [
    "train_data = np.array(train_data)\n",
    "train_label = np.array(train_label)\n",
    "\n",
    "print(train_data.shape)\n",
    "print(train_label.shape)"
   ]
  },
  {
   "cell_type": "code",
   "execution_count": 8,
   "id": "da314833",
   "metadata": {},
   "outputs": [],
   "source": [
    "input_shape = (train_data[0].shape[0], train_data[0].shape[1])\n",
    "\n",
    "model = Sequential()\n",
    "model.add(GRU(256, input_shape=input_shape))\n",
    "model.add(Dense(4, activation = 'relu'))\n",
    "\n",
    "optimizer = tf.optimizers.RMSprop(0.001)\n",
    "\n",
    "model.compile(optimizer=optimizer,loss='mse', metrics=['mae'])"
   ]
  },
  {
   "cell_type": "code",
   "execution_count": 9,
   "id": "018ec041",
   "metadata": {},
   "outputs": [
    {
     "name": "stdout",
     "output_type": "stream",
     "text": [
      "Epoch 1/5\n",
      "1019/1019 [==============================] - 73s 66ms/step - loss: 42915.8711 - mae: 182.5115\n",
      "Epoch 2/5\n",
      "1019/1019 [==============================] - 67s 66ms/step - loss: 2975.6130 - mae: 24.9978\n",
      "Epoch 3/5\n",
      "1019/1019 [==============================] - 67s 66ms/step - loss: 926.7836 - mae: 11.5977\n",
      "Epoch 4/5\n",
      "1019/1019 [==============================] - 67s 66ms/step - loss: 561.6140 - mae: 9.1223\n",
      "Epoch 5/5\n",
      "1019/1019 [==============================] - 67s 66ms/step - loss: 434.9546 - mae: 8.2151\n"
     ]
    }
   ],
   "source": [
    "with tf.device(\"/device:GPU:0\"):\n",
    "    model.fit(train_data, train_label, epochs=10, batch_size=256)"
   ]
  },
  {
   "cell_type": "code",
   "execution_count": 10,
   "id": "b21486ca",
   "metadata": {},
   "outputs": [
    {
     "name": "stderr",
     "output_type": "stream",
     "text": [
      "100%|██████████| 6912/6912 [00:05<00:00, 1367.36it/s]\n"
     ]
    }
   ],
   "source": [
    "with tf.device(\"/device:GPU:0\"):\n",
    "    test_data = []\n",
    "    test_label = []\n",
    "\n",
    "    tmp = pd.read_csv(w_list[-1])\n",
    "    tmp = tmp.replace(\" \", np.nan)\n",
    "    # 이전값을 사용\n",
    "    tmp = tmp.fillna(method = 'pad')\n",
    "    tmp = tmp.fillna(0)\n",
    "\n",
    "    #tmp.loc[:, [\"wl_1018662\", \"wl_1018680\", \"wl_1018683\", \"wl_1019630\"]] = tmp.loc[:, [\"wl_1018662\", \"wl_1018680\", \"wl_1018683\", \"wl_1019630\"]]*100\n",
    "\n",
    "    for j in tqdm(range(4032, len(tmp)-432)):\n",
    "        test_data.append(np.array(tmp.loc[j:j + 431, [\"swl\", \"inf\", \"sfw\", \"ecpc\",\n",
    "                                                        \"tototf\", \"tide_level\",\n",
    "                                                        \"fw_1018662\", \"fw_1018680\",\n",
    "                                                        \"fw_1018683\", \"fw_1019630\"]]).astype(float))\n",
    "\n",
    "        test_label.append(np.array(tmp.loc[j + 432, [\"wl_1018662\", \"wl_1018680\",\n",
    "                                                        \"wl_1018683\", \"wl_1019630\"]]).astype(float))"
   ]
  },
  {
   "cell_type": "code",
   "execution_count": 11,
   "id": "a210012f",
   "metadata": {},
   "outputs": [
    {
     "name": "stdout",
     "output_type": "stream",
     "text": [
      "(6912, 432, 10)\n",
      "(6912, 4)\n"
     ]
    }
   ],
   "source": [
    "test_data = np.array(test_data)\n",
    "test_label = np.array(test_label)\n",
    "\n",
    "print(test_data.shape)\n",
    "print(test_label.shape)"
   ]
  },
  {
   "cell_type": "code",
   "execution_count": 12,
   "id": "0d290908",
   "metadata": {},
   "outputs": [
    {
     "name": "stdout",
     "output_type": "stream",
     "text": [
      "216/216 [==============================] - 2s 9ms/step\n"
     ]
    }
   ],
   "source": [
    "with tf.device(\"/device:GPU:0\"):\n",
    "    pred = model.predict(test_data)"
   ]
  },
  {
   "cell_type": "code",
   "execution_count": 13,
   "id": "2b926beb",
   "metadata": {},
   "outputs": [],
   "source": [
    "pred = pd.DataFrame(pred)"
   ]
  },
  {
   "cell_type": "code",
   "execution_count": 14,
   "id": "df1eca46",
   "metadata": {},
   "outputs": [],
   "source": [
    "sample_submission = pd.read_csv(\"Dataset/sample_submission.csv\")\n",
    "\n",
    "sample_submission[\"wl_1018662\"] = pred[0]\n",
    "sample_submission[\"wl_1018680\"] = pred[1]\n",
    "sample_submission[\"wl_1018683\"] = pred[2]\n",
    "sample_submission[\"wl_1019630\"] = pred[3]"
   ]
  },
  {
   "cell_type": "code",
   "execution_count": 15,
   "id": "6911b6c3",
   "metadata": {},
   "outputs": [],
   "source": [
    "sample_submission.to_csv(\"Dataset/baseline.csv\", index = False)"
   ]
  },
  {
   "cell_type": "markdown",
   "id": "7c22751c",
   "metadata": {},
   "source": [
    "### score : 30.01091"
   ]
  }
 ],
 "metadata": {
  "kernelspec": {
   "display_name": "Python 3",
   "language": "python",
   "name": "python3"
  },
  "language_info": {
   "codemirror_mode": {
    "name": "ipython",
    "version": 3
   },
   "file_extension": ".py",
   "mimetype": "text/x-python",
   "name": "python",
   "nbconvert_exporter": "python",
   "pygments_lexer": "ipython3",
   "version": "3.8.8"
  }
 },
 "nbformat": 4,
 "nbformat_minor": 5
}
