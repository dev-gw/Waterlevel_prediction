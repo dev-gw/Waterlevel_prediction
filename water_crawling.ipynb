{
 "cells": [
  {
   "cell_type": "markdown",
   "metadata": {},
   "source": [
    "### 팔당댐, 대교 데이터 API\n",
    "* original by https://github.com/seojeong-oh"
   ]
  },
  {
   "cell_type": "code",
   "execution_count": 1,
   "metadata": {
    "executionInfo": {
     "elapsed": 2,
     "status": "ok",
     "timestamp": 1661351146988,
     "user": {
      "displayName": "김광원",
      "userId": "02368407886076526922"
     },
     "user_tz": -540
    },
    "id": "dyYxGnXmPkFB"
   },
   "outputs": [],
   "source": [
    "import pandas as pd\n",
    "import numpy as np\n",
    "import requests\n",
    "import calendar\n",
    "import time"
   ]
  },
  {
   "cell_type": "code",
   "execution_count": null,
   "metadata": {
    "colab": {
     "base_uri": "https://localhost:8080/"
    },
    "executionInfo": {
     "elapsed": 18386,
     "status": "ok",
     "timestamp": 1661353082774,
     "user": {
      "displayName": "김광원",
      "userId": "02368407886076526922"
     },
     "user_tz": -540
    },
    "id": "AtoEhf6uPnuR",
    "outputId": "4c79faf2-e6f2-4159-ffc0-72b6f1a54ca1"
   },
   "outputs": [],
   "source": [
    "# 수위 관측소 제원 요청\n",
    "url = 'http://api.hrfco.go.kr//dam/list/10M/1017310/202103010000/202103312350.json'\n",
    "response = requests.get(url)\n",
    "data = response.json()\n",
    "k = data['content']\n",
    "k"
   ]
  },
  {
   "cell_type": "code",
   "execution_count": 44,
   "metadata": {
    "executionInfo": {
     "elapsed": 292,
     "status": "ok",
     "timestamp": 1661354547366,
     "user": {
      "displayName": "김광원",
      "userId": "02368407886076526922"
     },
     "user_tz": -540
    },
    "id": "eoyAnWFqVNbv"
   },
   "outputs": [],
   "source": [
    "import csv\n",
    "columns = ['ymdhm','swl','inf', 'sfw', 'ecpc', 'tototf','links', 'dmobscd']\n",
    "with open('test4.csv', 'w') as csvfile:\n",
    "    writer = csv.DictWriter(csvfile, fieldnames = columns)\n",
    "    writer.writeheader()\n",
    "    writer.writerows(k)"
   ]
  },
  {
   "cell_type": "code",
   "execution_count": 45,
   "metadata": {
    "colab": {
     "base_uri": "https://localhost:8080/"
    },
    "executionInfo": {
     "elapsed": 1627,
     "status": "ok",
     "timestamp": 1661354550548,
     "user": {
      "displayName": "김광원",
      "userId": "02368407886076526922"
     },
     "user_tz": -540
    },
    "id": "t8FHgJY7QHQ1",
    "outputId": "65ebab86-65a9-4013-a3ae-700b54df6832"
   },
   "outputs": [
    {
     "name": "stdout",
     "output_type": "stream",
     "text": [
      "             ymdhm     swl      inf      sfw    ecpc   tototf links  dmobscd\n",
      "0     202103312350  24.820  298.000  204.870  39.130  298.000    []  1017310\n",
      "1     202103312340  24.820  291.000  204.870  39.130  291.000    []  1017310\n",
      "2     202103312330  24.820  291.000  204.870  39.130  291.000    []  1017310\n",
      "3     202103312320  24.820  298.000  204.870  39.130  298.000    []  1017310\n",
      "4     202103312310  24.820  298.000  204.870  39.130  298.000    []  1017310\n",
      "...            ...     ...      ...      ...     ...      ...   ...      ...\n",
      "4459  202103010040                                               []  1017310\n",
      "4460  202103010030                                               []  1017310\n",
      "4461  202103010020  24.900    0.000  207.800  36.200  132.000    []  1017310\n",
      "4462  202103010010  24.900    0.000  207.800  36.200  132.000    []  1017310\n",
      "4463  202103010000  24.900    0.000  207.800  36.200  151.000    []  1017310\n",
      "\n",
      "[4464 rows x 8 columns]\n"
     ]
    }
   ],
   "source": [
    "import datetime\n",
    "f = open('test4.csv','r')\n",
    "rdr = csv.reader(f)\n",
    "csv_reader = pd.read_csv('test4.csv')\n",
    "print(csv_reader)\n",
    "csv_reader= csv_reader.astype({'ymdhm':'object'})\n",
    "for i, j in enumerate(csv_reader['ymdhm']):\n",
    "  csv_reader['ymdhm']=datetime.datetime.strptime(str(j),'%Y%m%d%H%M')\n",
    "  #var date = DateTime.ParseExact(value, \"yyyyMMddHHmmss\", CultureInfo.InvariantCulture);\n",
    "\n",
    "csv_reader = csv_reader.sort_values('ymdhm').reset_index(drop=True)\n",
    "csv_reader.to_csv('test5.csv',index = False)"
   ]
  }
 ],
 "metadata": {
  "colab": {
   "authorship_tag": "ABX9TyOBWmFWwQxDVU3e7XzeUQjl",
   "collapsed_sections": [],
   "name": "Untitled0.ipynb",
   "provenance": []
  },
  "kernelspec": {
   "display_name": "Python 3",
   "language": "python",
   "name": "python3"
  },
  "language_info": {
   "codemirror_mode": {
    "name": "ipython",
    "version": 3
   },
   "file_extension": ".py",
   "mimetype": "text/x-python",
   "name": "python",
   "nbconvert_exporter": "python",
   "pygments_lexer": "ipython3",
   "version": "3.8.8"
  }
 },
 "nbformat": 4,
 "nbformat_minor": 1
}
